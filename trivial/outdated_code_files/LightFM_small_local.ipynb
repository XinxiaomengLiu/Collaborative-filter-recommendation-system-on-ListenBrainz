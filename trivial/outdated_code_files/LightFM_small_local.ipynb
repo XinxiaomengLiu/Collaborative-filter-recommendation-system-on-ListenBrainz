{
 "cells": [
  {
   "attachments": {},
   "cell_type": "markdown",
   "metadata": {},
   "source": [
    "# Single-Machine Implementation - LightFM"
   ]
  },
  {
   "cell_type": "code",
   "execution_count": 1,
   "metadata": {},
   "outputs": [
    {
     "name": "stderr",
     "output_type": "stream",
     "text": [
      "/opt/homebrew/lib/python3.11/site-packages/lightfm/_lightfm_fast.py:9: UserWarning: LightFM was compiled without OpenMP support. Only a single thread will be used.\n",
      "  warnings.warn(\n"
     ]
    }
   ],
   "source": [
    "import pandas as pd\n",
    "import numpy as np\n",
    "import time\n",
    "from scipy.sparse import coo_matrix, csr_matrix\n",
    "from lightfm.data import Dataset\n",
    "from lightfm import LightFM\n",
    "from lightfm.evaluation import auc_score, precision_at_k\n",
    "\n"
   ]
  },
  {
   "cell_type": "code",
   "execution_count": 2,
   "metadata": {},
   "outputs": [
    {
     "data": {
      "text/html": [
       "<div>\n",
       "<style scoped>\n",
       "    .dataframe tbody tr th:only-of-type {\n",
       "        vertical-align: middle;\n",
       "    }\n",
       "\n",
       "    .dataframe tbody tr th {\n",
       "        vertical-align: top;\n",
       "    }\n",
       "\n",
       "    .dataframe thead th {\n",
       "        text-align: right;\n",
       "    }\n",
       "</style>\n",
       "<table border=\"1\" class=\"dataframe\">\n",
       "  <thead>\n",
       "    <tr style=\"text-align: right;\">\n",
       "      <th></th>\n",
       "      <th>user_id</th>\n",
       "      <th>recording_id</th>\n",
       "      <th>count</th>\n",
       "    </tr>\n",
       "  </thead>\n",
       "  <tbody>\n",
       "    <tr>\n",
       "      <th>0</th>\n",
       "      <td>2481</td>\n",
       "      <td>8959</td>\n",
       "      <td>1</td>\n",
       "    </tr>\n",
       "    <tr>\n",
       "      <th>1</th>\n",
       "      <td>16160</td>\n",
       "      <td>13284</td>\n",
       "      <td>1</td>\n",
       "    </tr>\n",
       "    <tr>\n",
       "      <th>2</th>\n",
       "      <td>1660</td>\n",
       "      <td>51104</td>\n",
       "      <td>1</td>\n",
       "    </tr>\n",
       "    <tr>\n",
       "      <th>3</th>\n",
       "      <td>13986</td>\n",
       "      <td>67268</td>\n",
       "      <td>1</td>\n",
       "    </tr>\n",
       "    <tr>\n",
       "      <th>4</th>\n",
       "      <td>15138</td>\n",
       "      <td>69516</td>\n",
       "      <td>2</td>\n",
       "    </tr>\n",
       "  </tbody>\n",
       "</table>\n",
       "</div>"
      ],
      "text/plain": [
       "   user_id  recording_id  count\n",
       "0     2481          8959      1\n",
       "1    16160         13284      1\n",
       "2     1660         51104      1\n",
       "3    13986         67268      1\n",
       "4    15138         69516      2"
      ]
     },
     "execution_count": 2,
     "metadata": {},
     "output_type": "execute_result"
    }
   ],
   "source": [
    "train = pd.read_csv(\"/Users/colleenjin/Desktop/test20/train.csv\")\n",
    "train.rename(columns = {'user':'user_id', 'item':'recording_id', 'rating':'count'}, inplace = True)\n",
    "train.head()"
   ]
  },
  {
   "cell_type": "code",
   "execution_count": 3,
   "metadata": {},
   "outputs": [
    {
     "data": {
      "text/plain": [
       "(21039354, 3)"
      ]
     },
     "execution_count": 3,
     "metadata": {},
     "output_type": "execute_result"
    }
   ],
   "source": [
    "val = pd.read_csv(\"/Users/colleenjin/Desktop/test20/val.csv\")\n",
    "val.rename(columns = {'user':'user_id', 'item':'recording_id', 'rating':'count'}, inplace = True)\n",
    "val.shape"
   ]
  },
  {
   "cell_type": "code",
   "execution_count": 4,
   "metadata": {},
   "outputs": [
    {
     "data": {
      "text/html": [
       "<div>\n",
       "<style scoped>\n",
       "    .dataframe tbody tr th:only-of-type {\n",
       "        vertical-align: middle;\n",
       "    }\n",
       "\n",
       "    .dataframe tbody tr th {\n",
       "        vertical-align: top;\n",
       "    }\n",
       "\n",
       "    .dataframe thead th {\n",
       "        text-align: right;\n",
       "    }\n",
       "</style>\n",
       "<table border=\"1\" class=\"dataframe\">\n",
       "  <thead>\n",
       "    <tr style=\"text-align: right;\">\n",
       "      <th></th>\n",
       "      <th>user_id</th>\n",
       "      <th>recording_id</th>\n",
       "      <th>count</th>\n",
       "    </tr>\n",
       "  </thead>\n",
       "  <tbody>\n",
       "    <tr>\n",
       "      <th>0</th>\n",
       "      <td>131</td>\n",
       "      <td>84953</td>\n",
       "      <td>1</td>\n",
       "    </tr>\n",
       "    <tr>\n",
       "      <th>1</th>\n",
       "      <td>9602</td>\n",
       "      <td>118940</td>\n",
       "      <td>1</td>\n",
       "    </tr>\n",
       "    <tr>\n",
       "      <th>2</th>\n",
       "      <td>8176</td>\n",
       "      <td>157395</td>\n",
       "      <td>1</td>\n",
       "    </tr>\n",
       "    <tr>\n",
       "      <th>3</th>\n",
       "      <td>714</td>\n",
       "      <td>181692</td>\n",
       "      <td>1</td>\n",
       "    </tr>\n",
       "    <tr>\n",
       "      <th>4</th>\n",
       "      <td>5922</td>\n",
       "      <td>190806</td>\n",
       "      <td>13</td>\n",
       "    </tr>\n",
       "  </tbody>\n",
       "</table>\n",
       "</div>"
      ],
      "text/plain": [
       "   user_id  recording_id  count\n",
       "0      131         84953      1\n",
       "1     9602        118940      1\n",
       "2     8176        157395      1\n",
       "3      714        181692      1\n",
       "4     5922        190806     13"
      ]
     },
     "execution_count": 4,
     "metadata": {},
     "output_type": "execute_result"
    }
   ],
   "source": [
    "test = pd.read_csv(\"/Users/colleenjin/Desktop/test20/test.csv\")\n",
    "test.rename(columns = {'user':'user_id', 'item':'recording_id', 'rating':'count'}, inplace = True)\n",
    "test.head()"
   ]
  },
  {
   "cell_type": "code",
   "execution_count": 5,
   "metadata": {},
   "outputs": [],
   "source": [
    "sampled_val= val.sample(frac=0.0005)\n",
    "sampled_test = test.sample(frac=0.0005)\n",
    "\n",
    "total = pd.concat([train, sampled_val, sampled_test]).drop_duplicates()\n",
    "unique_users = total['user_id'].unique()\n",
    "unique_items = total['recording_id'].unique()"
   ]
  },
  {
   "cell_type": "code",
   "execution_count": 6,
   "metadata": {},
   "outputs": [],
   "source": [
    "data = Dataset()\n",
    "data.fit(users = unique_users, items = unique_items)\n"
   ]
  },
  {
   "attachments": {},
   "cell_type": "markdown",
   "metadata": {},
   "source": [
    "## Build interactions"
   ]
  },
  {
   "cell_type": "code",
   "execution_count": 7,
   "metadata": {},
   "outputs": [],
   "source": [
    "# data (iterable of (user_id, item_id) or (user_id, item_id, weight))\n",
    "interactions_train, weights_train = data.build_interactions([(train['user_id'][i], \n",
    "                                                              train['recording_id'][i], \n",
    "                                                              train['count'][i]) for i in range(train.shape[0])])"
   ]
  },
  {
   "cell_type": "code",
   "execution_count": 8,
   "metadata": {},
   "outputs": [],
   "source": [
    "interactions_val, weights_val = data.build_interactions([(sampled_val.iloc[i]['user_id'],\n",
    "                                                          sampled_val.iloc[i]['recording_id'],\n",
    "                                                          sampled_val.iloc[i]['count']) for i in range(sampled_val.shape[0])])"
   ]
  },
  {
   "cell_type": "code",
   "execution_count": 9,
   "metadata": {},
   "outputs": [],
   "source": [
    "interactions_test, weights_test = data.build_interactions([(sampled_test.iloc[i]['user_id'],\n",
    "                                                          sampled_test.iloc[i]['recording_id'],\n",
    "                                                          sampled_test.iloc[i]['count']) for i in range(sampled_test.shape[0])])"
   ]
  },
  {
   "cell_type": "code",
   "execution_count": 10,
   "metadata": {},
   "outputs": [
    {
     "data": {
      "text/plain": [
       "(10520, 3)"
      ]
     },
     "execution_count": 10,
     "metadata": {},
     "output_type": "execute_result"
    }
   ],
   "source": [
    "sampled_val.shape"
   ]
  },
  {
   "attachments": {},
   "cell_type": "markdown",
   "metadata": {},
   "source": [
    "### Hyperparameters to search"
   ]
  },
  {
   "cell_type": "code",
   "execution_count": 11,
   "metadata": {},
   "outputs": [],
   "source": [
    "# param_grid = {\n",
    "#         # 'max_iter': [5, 10, 20],\n",
    "#         # 'learning_schedule': ['adagrad', 'adadelta'],\n",
    "#         'no_components': [10, 20, 30],\n",
    "#         'loss': ['warp', 'bpr'],\n",
    "#         'user_alpha': [0.1, 0.01, 0.001],\n",
    "#         # 'item_alpha': [0.1, 0.01, 0.001]\n",
    "#     }"
   ]
  },
  {
   "cell_type": "code",
   "execution_count": 12,
   "metadata": {},
   "outputs": [],
   "source": [
    "# best_precision = 0\n",
    "# best_params = None\n",
    "# time_cost = 0\n",
    "# for rank in param_grid['rank']:\n",
    "#     # for learning_schedule in param_grid['learning_schedule']:  # initial learning rate for the adagrad learning schedule\n",
    "#     for no_components in param_grid['no_components']:  # the dimensionality of the feature latent embeddings\n",
    "#         for loss in param_grid['loss']:\n",
    "#             for user_alpha in param_grid['user_alpha']:  # L2 penalty on user features\n",
    "#                 # for item_alpha in param_grid['item_alpha']:  # L2 penalty on item features\n",
    "#                 print(f\"start training {loss} model\")\n",
    "#                 start = time.time()\n",
    "#                 print(\"initiating LightFM...\")\n",
    "#                 model = LightFM(no_components=no_components,\n",
    "#                                 loss=loss,\n",
    "#                                 user_alpha=user_alpha)\n",
    "#                 print(\"fitting LightFM...\")\n",
    "#                 model = model.fit(interactions=interactions_train)\n",
    "#                 print(\"computing precision_at_k...\")\n",
    "#                 val_precision = precision_at_k(model, interactions_val, k=rank).mean()\n",
    "#                 end = time.time()\n",
    "                \n",
    "#                 print(f\"LightFM {loss} model with rank={rank}, no_components={no_components}, user_alpha={user_alpha}:\")\n",
    "#                 print(f\"Precision: {val_precision}\")\n",
    "#                 print(f\"Time cost: {end-start}\")"
   ]
  },
  {
   "cell_type": "code",
   "execution_count": 11,
   "metadata": {},
   "outputs": [],
   "source": [
    "# Group the interactions by user_id and compute user-based statistics\n",
    "user_features = total.groupby('user_id')['count'].sum().reset_index()\n",
    "\n",
    "# Create a feature matrix from the user-based statistics\n",
    "user_features_matrix = np.zeros((len(user_features), 1))\n",
    "user_features_matrix[:, 0] = user_features['count']\n",
    "\n",
    "# Align the feature matrix with the interaction matrices\n",
    "user_features_train = csr_matrix(user_features_matrix[interactions_train.row])\n",
    "user_features_val = csr_matrix(user_features_matrix[interactions_val.row])\n",
    "\n",
    "# Train the model using the interaction matrices and user features\n",
    "# model = LightFM()\n",
    "# model.fit(interactions_train, user_features=user_features_train)\n",
    "\n",
    "# # Evaluate the model using precision at K\n",
    "# k = 5\n",
    "# precision = lightfm.evaluation.precision_at_k(model, interactions_test, user_features=user_features_test, k=k)"
   ]
  },
  {
   "attachments": {},
   "cell_type": "markdown",
   "metadata": {},
   "source": [
    "### 1. rank = 100, no_components = 10, loss = warp, user_alpha = 0.1 "
   ]
  },
  {
   "cell_type": "code",
   "execution_count": 14,
   "metadata": {},
   "outputs": [],
   "source": [
    "k=100\n",
    "no_components=10\n",
    "loss='warp'\n",
    "user_alpha=0.1"
   ]
  },
  {
   "cell_type": "code",
   "execution_count": 15,
   "metadata": {},
   "outputs": [
    {
     "name": "stdout",
     "output_type": "stream",
     "text": [
      "start training warp model\n",
      "initiating LightFM...\n",
      "fitting LightFM...\n",
      "Time cost (fit): 1059.4583690166473\n"
     ]
    }
   ],
   "source": [
    "print(f\"start training warp model\")\n",
    "start = time.time()\n",
    "print(\"initiating LightFM...\")\n",
    "model = LightFM(no_components=no_components,\n",
    "                loss=loss,\n",
    "                user_alpha=user_alpha)\n",
    "print(\"fitting LightFM...\")\n",
    "model = model.fit(interactions=interactions_train, sample_weight=weights_train, epochs=1, verbose=False)\n",
    "end = time.time()\n",
    "print(f\"Time cost (fit): {end-start}\")"
   ]
  },
  {
   "cell_type": "code",
   "execution_count": 16,
   "metadata": {},
   "outputs": [
    {
     "name": "stdout",
     "output_type": "stream",
     "text": [
      "computing precision_at_k...\n",
      "LightFM model with rank=100, no_components=10, loss=warp, user_alpha=0.1:\n",
      "Precision at k=100: 1.0775861483125482e-05\n",
      "Time cost (evaluate): 2093.286360025406\n"
     ]
    }
   ],
   "source": [
    "print(\"computing precision_at_k...\")\n",
    "start = time.time()\n",
    "val_precision = precision_at_k(model, interactions_val, k=k).mean()\n",
    "end = time.time()\n",
    "\n",
    "print(f\"LightFM model with rank={k}, no_components={no_components}, loss={loss}, user_alpha={user_alpha}:\")\n",
    "print(f\"Precision at k={k}: {val_precision}\")\n",
    "print(f\"Time cost (evaluate): {end-start}\")"
   ]
  },
  {
   "attachments": {},
   "cell_type": "markdown",
   "metadata": {},
   "source": [
    "### 2. rank = 100, no_components = 10, loss = warp, user_alpha = 0.01"
   ]
  },
  {
   "cell_type": "code",
   "execution_count": 17,
   "metadata": {},
   "outputs": [],
   "source": [
    "k=100\n",
    "no_components=10\n",
    "loss='warp'\n",
    "user_alpha=0.01"
   ]
  },
  {
   "cell_type": "code",
   "execution_count": 18,
   "metadata": {},
   "outputs": [
    {
     "name": "stdout",
     "output_type": "stream",
     "text": [
      "start training warp model\n",
      "initiating LightFM...\n",
      "fitting LightFM...\n",
      "Time cost (fit): 170.1923041343689\n"
     ]
    }
   ],
   "source": [
    "print(f\"start training warp model\")\n",
    "start = time.time()\n",
    "print(\"initiating LightFM...\")\n",
    "model1 = LightFM(no_components=no_components,\n",
    "                loss=loss,\n",
    "                user_alpha=user_alpha)\n",
    "print(\"fitting LightFM...\")\n",
    "model1 = model1.fit(interactions=interactions_train, sample_weight=weights_train, epochs=1, verbose=False)\n",
    "end = time.time()\n",
    "print(f\"Time cost (fit): {end-start}\")"
   ]
  },
  {
   "cell_type": "code",
   "execution_count": 19,
   "metadata": {},
   "outputs": [
    {
     "name": "stdout",
     "output_type": "stream",
     "text": [
      "computing precision_at_k...\n",
      "LightFM model with rank=100, no_components=10, loss=warp, user_alpha=0.01:\n",
      "Precision at k=100: 8.081896339717787e-06\n",
      "Time cost (evaluate): 2080.643155813217\n"
     ]
    }
   ],
   "source": [
    "print(\"computing precision_at_k...\")\n",
    "start = time.time()\n",
    "val_precision = precision_at_k(model1, interactions_val, k=k).mean()\n",
    "end = time.time()\n",
    "\n",
    "print(f\"LightFM model with rank={k}, no_components={no_components}, loss={loss}, user_alpha={user_alpha}:\")\n",
    "print(f\"Precision at k={k}: {val_precision}\")\n",
    "print(f\"Time cost (evaluate): {end-start}\")"
   ]
  },
  {
   "attachments": {},
   "cell_type": "markdown",
   "metadata": {},
   "source": [
    "### 3. rank = 100, no_components = 10, loss = warp, user_alpha = 0.001"
   ]
  },
  {
   "cell_type": "code",
   "execution_count": 20,
   "metadata": {},
   "outputs": [],
   "source": [
    "k=100\n",
    "no_components=10\n",
    "loss='warp'\n",
    "user_alpha=0.001"
   ]
  },
  {
   "cell_type": "code",
   "execution_count": 21,
   "metadata": {},
   "outputs": [
    {
     "name": "stdout",
     "output_type": "stream",
     "text": [
      "start training warp model\n",
      "initiating LightFM...\n",
      "fitting LightFM...\n",
      "Time cost (fit): 102.2452621459961\n"
     ]
    }
   ],
   "source": [
    "print(f\"start training warp model\")\n",
    "start = time.time()\n",
    "print(\"initiating LightFM...\")\n",
    "model2 = LightFM(no_components=no_components,\n",
    "                loss=loss,\n",
    "                user_alpha=user_alpha)\n",
    "print(\"fitting LightFM...\")\n",
    "model2 = model2.fit(interactions=interactions_train, sample_weight=weights_train, epochs=1, verbose=False)\n",
    "end = time.time()\n",
    "print(f\"Time cost (fit): {end-start}\")"
   ]
  },
  {
   "cell_type": "code",
   "execution_count": 22,
   "metadata": {},
   "outputs": [
    {
     "name": "stdout",
     "output_type": "stream",
     "text": [
      "computing precision_at_k...\n",
      "LightFM model with rank=100, no_components=10, loss=warp, user_alpha=0.001:\n",
      "Precision at k=100: 0.0\n",
      "Time cost: 2140.420850753784\n",
      "Time cost (evaluate): 2140.420850753784\n"
     ]
    }
   ],
   "source": [
    "print(\"computing precision_at_k...\")\n",
    "start = time.time()\n",
    "val_precision = precision_at_k(model2, interactions_val, k=k).mean()\n",
    "end = time.time()\n",
    "\n",
    "print(f\"LightFM model with rank={k}, no_components={no_components}, loss={loss}, user_alpha={user_alpha}:\")\n",
    "print(f\"Precision at k={k}: {val_precision}\")\n",
    "print(f\"Time cost: {end-start}\")\n",
    "print(f\"Time cost (evaluate): {end-start}\")"
   ]
  },
  {
   "attachments": {},
   "cell_type": "markdown",
   "metadata": {},
   "source": [
    "### 4. rank = 100, no_components = 20, loss = warp, user_alpha = 0.1"
   ]
  },
  {
   "cell_type": "code",
   "execution_count": 23,
   "metadata": {},
   "outputs": [],
   "source": [
    "k=100\n",
    "no_components=20  # dimensionality of the feature latent embeddings.\n",
    "loss='warp'\n",
    "user_alpha=0.1"
   ]
  },
  {
   "cell_type": "code",
   "execution_count": 24,
   "metadata": {},
   "outputs": [
    {
     "name": "stdout",
     "output_type": "stream",
     "text": [
      "start training warp model\n",
      "initiating LightFM...\n",
      "fitting LightFM...\n",
      "Time cost (fit): 1310.4581167697906\n"
     ]
    }
   ],
   "source": [
    "print(f\"start training warp model\")\n",
    "start = time.time()\n",
    "print(\"initiating LightFM...\")\n",
    "model3 = LightFM(no_components=no_components,\n",
    "                loss=loss,\n",
    "                user_alpha=user_alpha)\n",
    "print(\"fitting LightFM...\")\n",
    "model3 = model3.fit(interactions=interactions_train, sample_weight=weights_train, epochs=1, verbose=False)\n",
    "end = time.time()\n",
    "print(f\"Time cost (fit): {end-start}\")"
   ]
  },
  {
   "cell_type": "code",
   "execution_count": 25,
   "metadata": {},
   "outputs": [
    {
     "name": "stdout",
     "output_type": "stream",
     "text": [
      "computing precision_at_k...\n",
      "LightFM model with rank=100, no_components=20, loss=warp, user_alpha=0.1:\n",
      "Precision at k=100: 1.0775861483125482e-05\n",
      "Time cost (evaluate): 1601.2254269123077\n"
     ]
    }
   ],
   "source": [
    "print(\"computing precision_at_k...\")\n",
    "start = time.time()\n",
    "val_precision = precision_at_k(model3, interactions_val, k=k).mean()\n",
    "end = time.time()\n",
    "\n",
    "print(f\"LightFM model with rank={k}, no_components={no_components}, loss={loss}, user_alpha={user_alpha}:\")\n",
    "print(f\"Precision at k={k}: {val_precision}\")\n",
    "print(f\"Time cost (evaluate): {end-start}\")"
   ]
  },
  {
   "attachments": {},
   "cell_type": "markdown",
   "metadata": {},
   "source": [
    "### 5. rank = 100, no_components = 20, loss = warp, user_alpha = 1"
   ]
  },
  {
   "cell_type": "code",
   "execution_count": 26,
   "metadata": {},
   "outputs": [],
   "source": [
    "k=100\n",
    "no_components=20\n",
    "loss='warp'\n",
    "user_alpha=1"
   ]
  },
  {
   "cell_type": "code",
   "execution_count": 27,
   "metadata": {},
   "outputs": [
    {
     "name": "stdout",
     "output_type": "stream",
     "text": [
      "start training warp model\n",
      "initiating LightFM...\n",
      "fitting LightFM...\n",
      "Time cost (fit): 10761.031217336655\n"
     ]
    }
   ],
   "source": [
    "print(f\"start training warp model\")\n",
    "start = time.time()\n",
    "print(\"initiating LightFM...\")\n",
    "model4 = LightFM(no_components=no_components,\n",
    "                loss=loss,\n",
    "                user_alpha=user_alpha)\n",
    "print(\"fitting LightFM...\")\n",
    "model4 = model4.fit(interactions=interactions_train, sample_weight=weights_train, epochs=1, verbose=False)\n",
    "end = time.time()\n",
    "print(f\"Time cost (fit): {end-start}\")"
   ]
  },
  {
   "cell_type": "code",
   "execution_count": 28,
   "metadata": {},
   "outputs": [
    {
     "name": "stdout",
     "output_type": "stream",
     "text": [
      "computing precision_at_k...\n",
      "LightFM model with rank=100, no_components=20, loss=warp, user_alpha=1:\n",
      "Precision at k=100: 8.081896339717787e-06\n",
      "Time cost (evaluate): 1587.9050660133362\n"
     ]
    }
   ],
   "source": [
    "print(\"computing precision_at_k...\")\n",
    "start = time.time()\n",
    "val_precision = precision_at_k(model4, interactions_val, k=k).mean()\n",
    "end = time.time()\n",
    "\n",
    "print(f\"LightFM model with rank={k}, no_components={no_components}, loss={loss}, user_alpha={user_alpha}:\")\n",
    "print(f\"Precision at k={k}: {val_precision}\")\n",
    "print(f\"Time cost (evaluate): {end-start}\")"
   ]
  },
  {
   "attachments": {},
   "cell_type": "markdown",
   "metadata": {},
   "source": [
    "### 6. rank = 100, no_components = 10, loss = warp, user_alpha = 0.1, item_alpha = 1"
   ]
  },
  {
   "cell_type": "code",
   "execution_count": 12,
   "metadata": {},
   "outputs": [],
   "source": [
    "k=100\n",
    "no_components=10\n",
    "loss='warp'\n",
    "user_alpha=0.1\n",
    "item_alpha=1"
   ]
  },
  {
   "cell_type": "code",
   "execution_count": 15,
   "metadata": {},
   "outputs": [
    {
     "name": "stdout",
     "output_type": "stream",
     "text": [
      "start training warp model\n",
      "initiating LightFM...\n",
      "fitting LightFM...\n",
      "Time cost (fit): 15353.839386940002\n"
     ]
    }
   ],
   "source": [
    "print(f\"start training warp model\")\n",
    "start = time.time()\n",
    "print(\"initiating LightFM...\")\n",
    "model5 = LightFM(no_components=no_components,\n",
    "                loss=loss,\n",
    "                user_alpha=user_alpha,\n",
    "                item_alpha=item_alpha)\n",
    "print(\"fitting LightFM...\")\n",
    "model5 = model5.fit(interactions=interactions_train, sample_weight=weights_train, epochs=1, verbose=False)\n",
    "end = time.time()\n",
    "print(f\"Time cost (fit): {end-start}\")"
   ]
  },
  {
   "cell_type": "code",
   "execution_count": 16,
   "metadata": {},
   "outputs": [
    {
     "name": "stdout",
     "output_type": "stream",
     "text": [
      "computing precision_at_k...\n",
      "LightFM model with rank=100, no_components=10, loss=warp, user_alpha=0.1, item_alpha=1:\n",
      "Precision at k=100: 0.0\n",
      "Time cost (evaluate): 1651.2142357826233\n"
     ]
    }
   ],
   "source": [
    "print(\"computing precision_at_k...\")\n",
    "start = time.time()\n",
    "val_precision = precision_at_k(model5, interactions_val, k=k).mean()\n",
    "end = time.time()\n",
    "\n",
    "print(f\"LightFM model with rank={k}, no_components={no_components}, loss={loss}, user_alpha={user_alpha}, item_alpha={item_alpha}:\")\n",
    "print(f\"Precision at k={k}: {val_precision}\")\n",
    "print(f\"Time cost (evaluate): {end-start}\")"
   ]
  },
  {
   "attachments": {},
   "cell_type": "markdown",
   "metadata": {},
   "source": [
    "### 7. rank = 100, no_components = 10, loss = warp, user_alpha = 0.1, item_alpha = 0.1"
   ]
  },
  {
   "cell_type": "code",
   "execution_count": null,
   "metadata": {},
   "outputs": [],
   "source": [
    "k=100\n",
    "no_components=10\n",
    "loss='warp'\n",
    "user_alpha=0.1\n",
    "item_alpha=0.1"
   ]
  },
  {
   "cell_type": "code",
   "execution_count": 17,
   "metadata": {},
   "outputs": [
    {
     "name": "stdout",
     "output_type": "stream",
     "text": [
      "start training warp model\n",
      "initiating LightFM...\n",
      "fitting LightFM...\n",
      "Time cost (fit): 15282.193259000778\n"
     ]
    }
   ],
   "source": [
    "print(f\"start training warp model\")\n",
    "start = time.time()\n",
    "print(\"initiating LightFM...\")\n",
    "model6 = LightFM(no_components=no_components,\n",
    "                loss=loss,\n",
    "                user_alpha=user_alpha,\n",
    "                item_alpha=item_alpha)\n",
    "print(\"fitting LightFM...\")\n",
    "model6 = model6.fit(interactions=interactions_train, sample_weight=weights_train, epochs=1, verbose=False)\n",
    "end = time.time()\n",
    "print(f\"Time cost (fit): {end-start}\")"
   ]
  },
  {
   "cell_type": "code",
   "execution_count": 18,
   "metadata": {},
   "outputs": [
    {
     "name": "stdout",
     "output_type": "stream",
     "text": [
      "computing precision_at_k...\n",
      "LightFM model with rank=100, no_components=10, loss=warp, user_alpha=0.1, item_alpha=1:\n",
      "Precision at k=100: 5.442176643555285e-06\n",
      "Time cost (evaluate): 1650.066615819931\n"
     ]
    }
   ],
   "source": [
    "print(\"computing precision_at_k...\")\n",
    "start = time.time()\n",
    "val_precision = precision_at_k(model6, interactions_val, k=k).mean()\n",
    "end = time.time()\n",
    "\n",
    "print(f\"LightFM model with rank={k}, no_components={no_components}, loss={loss}, user_alpha={user_alpha}, item_alpha={item_alpha}:\")\n",
    "print(f\"Precision at k={k}: {val_precision}\")\n",
    "print(f\"Time cost (evaluate): {end-start}\")"
   ]
  },
  {
   "attachments": {},
   "cell_type": "markdown",
   "metadata": {},
   "source": [
    "### 8. rank = 100, no_components = 10, loss = warp, user_alpha = 0.1, item_alpha = 0.01"
   ]
  },
  {
   "cell_type": "code",
   "execution_count": 19,
   "metadata": {},
   "outputs": [],
   "source": [
    "k=100\n",
    "no_components=10\n",
    "loss='warp'\n",
    "user_alpha=0.1\n",
    "item_alpha=0.01"
   ]
  },
  {
   "cell_type": "code",
   "execution_count": 20,
   "metadata": {},
   "outputs": [
    {
     "name": "stdout",
     "output_type": "stream",
     "text": [
      "start training warp model\n",
      "initiating LightFM...\n",
      "fitting LightFM...\n",
      "Time cost (fit): 1612.7370300292969\n"
     ]
    }
   ],
   "source": [
    "print(f\"start training warp model\")\n",
    "start = time.time()\n",
    "print(\"initiating LightFM...\")\n",
    "model7 = LightFM(no_components=no_components,\n",
    "                loss=loss,\n",
    "                user_alpha=user_alpha,\n",
    "                item_alpha=item_alpha)\n",
    "print(\"fitting LightFM...\")\n",
    "model7 = model7.fit(interactions=interactions_train, sample_weight=weights_train, epochs=1, verbose=False)\n",
    "end = time.time()\n",
    "print(f\"Time cost (fit): {end-start}\")"
   ]
  },
  {
   "cell_type": "code",
   "execution_count": 21,
   "metadata": {},
   "outputs": [
    {
     "name": "stdout",
     "output_type": "stream",
     "text": [
      "computing precision_at_k...\n",
      "LightFM model with rank=100, no_components=10, loss=warp, user_alpha=0.1, item_alpha=0.01:\n",
      "Precision at k=100: 0.0\n",
      "Time cost (evaluate): 1675.434231042862\n"
     ]
    }
   ],
   "source": [
    "print(\"computing precision_at_k...\")\n",
    "start = time.time()\n",
    "val_precision = precision_at_k(model7, interactions_val, k=k).mean()\n",
    "end = time.time()\n",
    "\n",
    "print(f\"LightFM model with rank={k}, no_components={no_components}, loss={loss}, user_alpha={user_alpha}, item_alpha={item_alpha}:\")\n",
    "print(f\"Precision at k={k}: {val_precision}\")\n",
    "print(f\"Time cost (evaluate): {end-start}\")"
   ]
  },
  {
   "attachments": {},
   "cell_type": "markdown",
   "metadata": {},
   "source": [
    "### 9. rank = 100, no_components = 10, loss = brp, user_alpha = 0.1, item_alpha = 0.1"
   ]
  },
  {
   "cell_type": "code",
   "execution_count": 25,
   "metadata": {},
   "outputs": [],
   "source": [
    "k=100\n",
    "no_components=10\n",
    "loss='bpr'\n",
    "user_alpha=0.1\n",
    "item_alpha=0.1"
   ]
  },
  {
   "cell_type": "code",
   "execution_count": 26,
   "metadata": {},
   "outputs": [
    {
     "name": "stdout",
     "output_type": "stream",
     "text": [
      "start training warp model\n",
      "initiating LightFM...\n",
      "fitting LightFM...\n",
      "Time cost (fit): 1569.547702074051\n"
     ]
    }
   ],
   "source": [
    "print(f\"start training warp model\")\n",
    "start = time.time()\n",
    "print(\"initiating LightFM...\")\n",
    "model8 = LightFM(no_components=no_components,\n",
    "                loss=loss,\n",
    "                user_alpha=user_alpha,\n",
    "                item_alpha=item_alpha)\n",
    "print(\"fitting LightFM...\")\n",
    "model8 = model8.fit(interactions=interactions_train, sample_weight=weights_train, epochs=1, verbose=False)\n",
    "end = time.time()\n",
    "print(f\"Time cost (fit): {end-start}\")"
   ]
  },
  {
   "cell_type": "code",
   "execution_count": 28,
   "metadata": {},
   "outputs": [
    {
     "name": "stdout",
     "output_type": "stream",
     "text": [
      "computing precision_at_k...\n",
      "LightFM model with rank=100, no_components=10, loss=bpr, user_alpha=0.1, item_alpha=0.1:\n",
      "Precision at k=100: 0.0\n",
      "Time cost (evaluate): 1668.3383531570435\n"
     ]
    }
   ],
   "source": [
    "print(\"computing precision_at_k...\")\n",
    "start = time.time()\n",
    "val_precision = precision_at_k(model8, interactions_val, k=k).mean()\n",
    "end = time.time()\n",
    "\n",
    "print(f\"LightFM model with rank={k}, no_components={no_components}, loss={loss}, user_alpha={user_alpha}, item_alpha={item_alpha}:\")\n",
    "print(f\"Precision at k={k}: {val_precision}\")\n",
    "print(f\"Time cost (evaluate): {end-start}\")"
   ]
  },
  {
   "attachments": {},
   "cell_type": "markdown",
   "metadata": {},
   "source": [
    "# model on testing set"
   ]
  },
  {
   "cell_type": "code",
   "execution_count": 30,
   "metadata": {},
   "outputs": [],
   "source": [
    "k=100\n",
    "no_components=10\n",
    "loss='warp'\n",
    "user_alpha=0.1\n",
    "item_alpha=0"
   ]
  },
  {
   "cell_type": "code",
   "execution_count": 31,
   "metadata": {},
   "outputs": [
    {
     "name": "stdout",
     "output_type": "stream",
     "text": [
      "start training warp model\n",
      "initiating LightFM...\n",
      "fitting LightFM...\n",
      "Time cost (fit): 1059.0853538513184\n"
     ]
    }
   ],
   "source": [
    "print(f\"start training warp model\")\n",
    "start = time.time()\n",
    "print(\"initiating LightFM...\")\n",
    "model_final = LightFM(no_components=no_components,\n",
    "                loss=loss,\n",
    "                user_alpha=user_alpha,\n",
    "                item_alpha=item_alpha)\n",
    "print(\"fitting LightFM...\")\n",
    "model_final = model_final.fit(interactions=interactions_train, sample_weight=weights_train, epochs=1, verbose=False)\n",
    "end = time.time()\n",
    "print(f\"Time cost (fit): {end-start}\")"
   ]
  },
  {
   "cell_type": "code",
   "execution_count": 32,
   "metadata": {},
   "outputs": [
    {
     "name": "stdout",
     "output_type": "stream",
     "text": [
      "computing precision_at_k...\n",
      "LightFM model with rank=100, no_components=10, loss=warp, user_alpha=0.1, item_alpha=0:\n",
      "Precision at k=100: 5.216913632466458e-05\n",
      "Time cost (evaluate): 1985.3897778987885\n"
     ]
    }
   ],
   "source": [
    "print(\"computing precision_at_k...\")\n",
    "start = time.time()\n",
    "val_precision = precision_at_k(model_final, interactions_test, k=k).mean()\n",
    "end = time.time()\n",
    "\n",
    "print(f\"LightFM model with rank={k}, no_components={no_components}, loss={loss}, user_alpha={user_alpha}, item_alpha={item_alpha}:\")\n",
    "print(f\"Precision at k={k}: {val_precision}\")\n",
    "print(f\"Time cost (evaluate): {end-start}\")"
   ]
  },
  {
   "cell_type": "code",
   "execution_count": null,
   "metadata": {},
   "outputs": [],
   "source": []
  }
 ],
 "metadata": {
  "kernelspec": {
   "display_name": "Python 3",
   "language": "python",
   "name": "python3"
  },
  "language_info": {
   "codemirror_mode": {
    "name": "ipython",
    "version": 3
   },
   "file_extension": ".py",
   "mimetype": "text/x-python",
   "name": "python",
   "nbconvert_exporter": "python",
   "pygments_lexer": "ipython3",
   "version": "3.11.2"
  },
  "orig_nbformat": 4
 },
 "nbformat": 4,
 "nbformat_minor": 2
}
